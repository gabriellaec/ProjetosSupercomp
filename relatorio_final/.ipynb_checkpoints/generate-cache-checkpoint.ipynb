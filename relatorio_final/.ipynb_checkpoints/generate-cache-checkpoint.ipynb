{
 "cells": [
  {
   "cell_type": "markdown",
   "metadata": {},
   "source": [
    "# Relatório Intermediário"
   ]
  },
  {
   "cell_type": "markdown",
   "metadata": {},
   "source": [
    "Gabriella Cukier"
   ]
  },
  {
   "cell_type": "markdown",
   "metadata": {},
   "source": [
    "### Bibliotecas"
   ]
  },
  {
   "cell_type": "code",
   "execution_count": 2,
   "metadata": {},
   "outputs": [],
   "source": [
    "import subprocess\n",
    "import time\n",
    "import pandas as pd\n",
    "import matplotlib.pyplot as plt\n",
    "import pickle\n"
   ]
  },
  {
   "cell_type": "markdown",
   "metadata": {},
   "source": [
    "### Funções utilizadas"
   ]
  },
  {
   "cell_type": "code",
   "execution_count": 3,
   "metadata": {},
   "outputs": [],
   "source": [
    "def roda_com_entrada(executavel, arquivo_in):\n",
    "    with open(arquivo_in) as f:\n",
    "        start = time.perf_counter()\n",
    "        proc = subprocess.run([f\"./exe/{executavel}\"], input=f.read(), text=True, capture_output=True)\n",
    "        end = time.perf_counter()\n",
    "        \n",
    "        return(proc.stdout, (end - start))"
   ]
  },
  {
   "cell_type": "code",
   "execution_count": 4,
   "metadata": {},
   "outputs": [],
   "source": [
    "\n",
    "\n",
    "def gera_resultados(path, arquivos, executaveis):\n",
    "    dic={}\n",
    "    for executavel in executaveis:\n",
    "        dic[executavel] = {\n",
    "            \"results\": None,\n",
    "            \"times\" : None\n",
    "        }\n",
    "        results=[]\n",
    "        times=[]\n",
    "        \n",
    "        print(executavel)\n",
    "        for arquivo_in in arquivos:\n",
    "\n",
    "            desempenho = roda_com_entrada(executavel, f\"{path}/{arquivo_in}\")\n",
    "            results.append(desempenho[0])\n",
    "            times.append(desempenho[1])\n",
    "            \n",
    "            print(arquivo_in)\n",
    "\n",
    "        dic[executavel][\"results\"] = results\n",
    "        dic[executavel][\"times\"] = times\n",
    "\n",
    "        file = open(f\"cache/{executavel}.pkl\", \"wb\")\n",
    "        pickle.dump(dic, file)\n",
    "        file.close()\n",
    "\n",
    "\n",
    "    return dic"
   ]
  },
  {
   "cell_type": "code",
   "execution_count": 5,
   "metadata": {},
   "outputs": [],
   "source": [
    "def multi_df(dic):\n",
    "    # https://www.geeksforgeeks.org/nested-dictionary-to-multiindex-dataframe/\n",
    "    reformed_dict = {}\n",
    "    for outerKey, innerDict in dic.items():\n",
    "        for innerKey, values in innerDict.items():\n",
    "            reformed_dict[(outerKey,\n",
    "                           innerKey)] = values\n",
    "\n",
    "    multiIndex_df = pd.DataFrame(reformed_dict)\n",
    "    return multiIndex_df"
   ]
  },
  {
   "cell_type": "code",
   "execution_count": 6,
   "metadata": {},
   "outputs": [],
   "source": [
    "executaveis =[\"exaustiva-paralela-reduce\",\"exaustiva-paralela\", \"busca_exaustiva_smith_waterman\"]\n",
    "arquivos=[]\n",
    "for i in range(28):\n",
    "    arquivos.append(f\"dna{i}.seq\")"
   ]
  },
  {
   "cell_type": "markdown",
   "metadata": {},
   "source": [
    "##### Criando um Dataframe"
   ]
  },
  {
   "cell_type": "code",
   "execution_count": 9,
   "metadata": {
    "scrolled": true
   },
   "outputs": [
    {
     "name": "stdout",
     "output_type": "stream",
     "text": [
      "exaustiva-paralela-reduce\n",
      "dna0.seq\n",
      "dna1.seq\n",
      "dna2.seq\n",
      "dna3.seq\n",
      "dna4.seq\n",
      "dna5.seq\n",
      "dna6.seq\n",
      "dna7.seq\n"
     ]
    }
   ],
   "source": [
    "dic_all = gera_resultados(\"in_exaustiva_maior\", arquivos, executaveis)"
   ]
  },
  {
   "cell_type": "code",
   "execution_count": null,
   "metadata": {},
   "outputs": [],
   "source": []
  }
 ],
 "metadata": {
  "interpreter": {
   "hash": "916dbcbb3f70747c44a77c7bcd40155683ae19c65e1c03b4aa3499c5328201f1"
  },
  "kernelspec": {
   "display_name": "Python 3",
   "language": "python",
   "name": "python3"
  },
  "language_info": {
   "codemirror_mode": {
    "name": "ipython",
    "version": 3
   },
   "file_extension": ".py",
   "mimetype": "text/x-python",
   "name": "python",
   "nbconvert_exporter": "python",
   "pygments_lexer": "ipython3",
   "version": "3.8.10"
  }
 },
 "nbformat": 4,
 "nbformat_minor": 2
}
